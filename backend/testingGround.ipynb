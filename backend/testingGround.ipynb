{
 "cells": [
  {
   "cell_type": "code",
   "execution_count": 3,
   "metadata": {},
   "outputs": [],
   "source": [
    "import requests\n",
    "from bs4 import BeautifulSoup\n",
    "import json\n",
    "import re\n",
    "\n",
    "test_food = \"kale\"\n",
    "\n",
    "url=f\"https://foodb.ca/unearth/q?utf8=%E2%9C%93&query={test_food}&searcher=foods&button=\"\n",
    "page = requests.get(url)\n",
    "soup = BeautifulSoup(page.content, 'html.parser')\n"
   ]
  },
  {
   "cell_type": "code",
   "execution_count": 14,
   "metadata": {},
   "outputs": [],
   "source": [
    "results_list = soup.find_all('div', {'class': 'unearth-search-hit'})"
   ]
  },
  {
   "cell_type": "code",
   "execution_count": 17,
   "metadata": {},
   "outputs": [],
   "source": [
    "link = results_list[0].find('a')['href']\n"
   ]
  },
  {
   "cell_type": "code",
   "execution_count": 19,
   "metadata": {},
   "outputs": [
    {
     "name": "stderr",
     "output_type": "stream",
     "text": [
      "C:\\Users\\andre\\AppData\\Local\\Programs\\Python\\Python38\\lib\\html\\parser.py:171: XMLParsedAsHTMLWarning: It looks like you're parsing an XML document using an HTML parser. If this really is an HTML document (maybe it's XHTML?), you can ignore or filter this warning. If it's XML, you should know that using an XML parser will be more reliable. To parse this document as XML, make sure you have the lxml package installed, and pass the keyword argument `features=\"xml\"` into the BeautifulSoup constructor.\n",
      "  k = self.parse_starttag(i)\n"
     ]
    }
   ],
   "source": [
    "food_url = f\"https://foodb.ca{link}\"\n",
    "food_page = requests.get(food_url)\n",
    "food_soup = BeautifulSoup(food_page.content, 'html.parser')\n"
   ]
  },
  {
   "cell_type": "code",
   "execution_count": 28,
   "metadata": {},
   "outputs": [
    {
     "data": {
      "text/plain": [
       "['395']"
      ]
     },
     "execution_count": 28,
     "metadata": {},
     "output_type": "execute_result"
    }
   ],
   "source": [
    "re.findall(r'\\d+', link)"
   ]
  },
  {
   "cell_type": "code",
   "execution_count": null,
   "metadata": {},
   "outputs": [],
   "source": [
    "https://foodb.ca/system/foods/pictures/395/thumb/395.png"
   ]
  },
  {
   "cell_type": "code",
   "execution_count": 31,
   "metadata": {},
   "outputs": [
    {
     "name": "stdout",
     "output_type": "stream",
     "text": [
      "Collecting faker\n",
      "  Downloading Faker-22.4.0-py3-none-any.whl (1.7 MB)\n",
      "Requirement already satisfied: typing-extensions>=3.10.0.1 in c:\\users\\andre\\projects\\asl-learner-nwhacks-backend\\venv\\lib\\site-packages (from faker) (4.0.1)\n",
      "Requirement already satisfied: python-dateutil>=2.4 in c:\\users\\andre\\projects\\asl-learner-nwhacks-backend\\venv\\lib\\site-packages (from faker) (2.8.2)\n",
      "Requirement already satisfied: six>=1.5 in c:\\users\\andre\\projects\\asl-learner-nwhacks-backend\\venv\\lib\\site-packages (from python-dateutil>=2.4->faker) (1.16.0)\n",
      "Installing collected packages: faker\n",
      "Successfully installed faker-22.4.0\n"
     ]
    },
    {
     "name": "stderr",
     "output_type": "stream",
     "text": [
      "WARNING: You are using pip version 21.0.1; however, version 23.3.2 is available.\n",
      "You should consider upgrading via the 'C:\\Users\\andre\\projects\\ASL-Learner-NWHacks-backend\\venv\\Scripts\\python.exe -m pip install --upgrade pip' command.\n"
     ]
    }
   ],
   "source": [
    "!pip install faker"
   ]
  },
  {
   "cell_type": "code",
   "execution_count": 38,
   "metadata": {},
   "outputs": [],
   "source": [
    "import firebase_admin\n",
    "from firebase_admin import credentials\n",
    "from firebase_admin import firestore\n",
    "import faker\n",
    "\n",
    "# Use a service account\n",
    "cred = credentials.Certificate(r\"c:\\Users\\andre\\Downloads\\homegrown-6fa5b-firebase-adminsdk-4dr5l-a48bb2c972.json\")\n",
    "firebase_admin.initialize_app(cred)\n",
    "\n",
    "db = firestore.client()"
   ]
  },
  {
   "cell_type": "code",
   "execution_count": 36,
   "metadata": {},
   "outputs": [],
   "source": [
    "\n",
    "# Use a service account\n",
    "cred = credentials.Certificate(r\"c:\\Users\\andre\\Downloads\\homegrown-6fa5b-firebase-adminsdk-4dr5l-a48bb2c972.json\")\n",
    "firebase_admin.initialize_app(cred)\n",
    "\n",
    "db = firestore.client()"
   ]
  },
  {
   "cell_type": "code",
   "execution_count": 45,
   "metadata": {},
   "outputs": [],
   "source": [
    "# Create a Faker instance\n",
    "fake = faker.Faker()\n",
    "\n",
    "# List of produce\n",
    "from foodList import foodList\n",
    "from farmList import local_farms \n",
    "\n",
    "# Create 100 farms\n",
    "for _, farm_data in enumerate(local_farms):\n",
    "    farm_data['produce']= fake.random_elements(elements=foodList, length=fake.random_int(min=1, max=5), unique=True)\n",
    "\n",
    "    # Add a new doc in collection 'farms' with ID 'farmID'\n",
    "    farm_ref = db.collection('farms').document()\n",
    "    farm_ref.set(farm_data)"
   ]
  },
  {
   "cell_type": "code",
   "execution_count": null,
   "metadata": {},
   "outputs": [],
   "source": [
    "# Create a Faker instance\n",
    "fake = faker.Faker()\n",
    "\n",
    "# List of produce\n",
    "produce_list = ['apples', 'oranges', 'carrots', 'potatoes', 'lettuce']\n",
    "\n",
    "# Create 100 farms\n",
    "for _ in range(100):\n",
    "    farm_data = {\n",
    "        'information': fake.text(),\n",
    "        'address': fake.address(),\n",
    "        'produce': fake.random_elements(elements=produce_list, length=fake.random_int(min=1, max=5), unique=True)\n",
    "    }\n",
    "\n",
    "    print(farm_data)"
   ]
  }
 ],
 "metadata": {
  "kernelspec": {
   "display_name": "venv",
   "language": "python",
   "name": "python3"
  },
  "language_info": {
   "codemirror_mode": {
    "name": "ipython",
    "version": 3
   },
   "file_extension": ".py",
   "mimetype": "text/x-python",
   "name": "python",
   "nbconvert_exporter": "python",
   "pygments_lexer": "ipython3",
   "version": "3.8.7"
  }
 },
 "nbformat": 4,
 "nbformat_minor": 2
}
